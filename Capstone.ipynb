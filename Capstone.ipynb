{
 "cells": [
  {
   "cell_type": "code",
   "execution_count": 1,
   "metadata": {
    "collapsed": false
   },
   "outputs": [],
   "source": [
    "import tensorflow as tf\n",
    "import numpy as np\n",
    "import pandas as pd\n",
    "import sklearn.model_selection as sk\n",
    "from sklearn.preprocessing import StandardScaler"
   ]
  },
  {
   "cell_type": "code",
   "execution_count": 135,
   "metadata": {
    "collapsed": false
   },
   "outputs": [
    {
     "data": {
      "text/html": [
       "<div>\n",
       "<table border=\"1\" class=\"dataframe\">\n",
       "  <thead>\n",
       "    <tr style=\"text-align: right;\">\n",
       "      <th></th>\n",
       "      <th>Ticker</th>\n",
       "      <th>Date</th>\n",
       "      <th>AdjOpen</th>\n",
       "      <th>AdjHigh</th>\n",
       "      <th>AdjLow</th>\n",
       "      <th>AdjClose</th>\n",
       "      <th>AdjVol</th>\n",
       "      <th>log_returns_adj_close</th>\n",
       "      <th>upmove</th>\n",
       "      <th>downmove</th>\n",
       "      <th>...</th>\n",
       "      <th>ma.40</th>\n",
       "      <th>ma.80</th>\n",
       "      <th>macd.10v5</th>\n",
       "      <th>macd.20v10</th>\n",
       "      <th>macd.40v20</th>\n",
       "      <th>macd.80v40</th>\n",
       "      <th>percent.K.5</th>\n",
       "      <th>percent.K.14</th>\n",
       "      <th>percent.K.30</th>\n",
       "      <th>percent.K.60</th>\n",
       "    </tr>\n",
       "  </thead>\n",
       "  <tbody>\n",
       "    <tr>\n",
       "      <th>0</th>\n",
       "      <td>AB</td>\n",
       "      <td>19880801</td>\n",
       "      <td>0.303549</td>\n",
       "      <td>0.307058</td>\n",
       "      <td>0.303549</td>\n",
       "      <td>0.303549</td>\n",
       "      <td>47600.0</td>\n",
       "      <td>0.000000</td>\n",
       "      <td>0.011113</td>\n",
       "      <td>0.000000</td>\n",
       "      <td>...</td>\n",
       "      <td>0.314330</td>\n",
       "      <td>0.312866</td>\n",
       "      <td>0.003026</td>\n",
       "      <td>0.003718</td>\n",
       "      <td>0.001809</td>\n",
       "      <td>-0.001464</td>\n",
       "      <td>0.199784</td>\n",
       "      <td>0.199784</td>\n",
       "      <td>0.199784</td>\n",
       "      <td>0.200308</td>\n",
       "    </tr>\n",
       "    <tr>\n",
       "      <th>1</th>\n",
       "      <td>AB</td>\n",
       "      <td>19880802</td>\n",
       "      <td>0.307581</td>\n",
       "      <td>0.311137</td>\n",
       "      <td>0.307581</td>\n",
       "      <td>0.311137</td>\n",
       "      <td>47200.0</td>\n",
       "      <td>0.024693</td>\n",
       "      <td>0.007589</td>\n",
       "      <td>-0.000524</td>\n",
       "      <td>...</td>\n",
       "      <td>0.314174</td>\n",
       "      <td>0.312823</td>\n",
       "      <td>0.001664</td>\n",
       "      <td>0.003162</td>\n",
       "      <td>0.001785</td>\n",
       "      <td>-0.001351</td>\n",
       "      <td>0.399569</td>\n",
       "      <td>0.399569</td>\n",
       "      <td>0.399569</td>\n",
       "      <td>0.600154</td>\n",
       "    </tr>\n",
       "    <tr>\n",
       "      <th>2</th>\n",
       "      <td>AB</td>\n",
       "      <td>19880803</td>\n",
       "      <td>0.311137</td>\n",
       "      <td>0.311137</td>\n",
       "      <td>0.307581</td>\n",
       "      <td>0.311137</td>\n",
       "      <td>28000.0</td>\n",
       "      <td>0.000000</td>\n",
       "      <td>0.003556</td>\n",
       "      <td>0.003556</td>\n",
       "      <td>...</td>\n",
       "      <td>0.314026</td>\n",
       "      <td>0.312782</td>\n",
       "      <td>0.000820</td>\n",
       "      <td>0.002695</td>\n",
       "      <td>0.001756</td>\n",
       "      <td>-0.001245</td>\n",
       "      <td>0.399569</td>\n",
       "      <td>0.399569</td>\n",
       "      <td>0.399569</td>\n",
       "      <td>0.600154</td>\n",
       "    </tr>\n",
       "    <tr>\n",
       "      <th>3</th>\n",
       "      <td>AB</td>\n",
       "      <td>19880804</td>\n",
       "      <td>0.311137</td>\n",
       "      <td>0.311137</td>\n",
       "      <td>0.307581</td>\n",
       "      <td>0.311137</td>\n",
       "      <td>96400.0</td>\n",
       "      <td>0.000000</td>\n",
       "      <td>0.003556</td>\n",
       "      <td>0.003556</td>\n",
       "      <td>...</td>\n",
       "      <td>0.313885</td>\n",
       "      <td>0.312741</td>\n",
       "      <td>0.000310</td>\n",
       "      <td>0.002303</td>\n",
       "      <td>0.001723</td>\n",
       "      <td>-0.001144</td>\n",
       "      <td>0.399800</td>\n",
       "      <td>0.399569</td>\n",
       "      <td>0.399569</td>\n",
       "      <td>0.666667</td>\n",
       "    </tr>\n",
       "    <tr>\n",
       "      <th>4</th>\n",
       "      <td>AB</td>\n",
       "      <td>19880805</td>\n",
       "      <td>0.303549</td>\n",
       "      <td>0.303549</td>\n",
       "      <td>0.299747</td>\n",
       "      <td>0.303549</td>\n",
       "      <td>45200.0</td>\n",
       "      <td>-0.024693</td>\n",
       "      <td>-0.004033</td>\n",
       "      <td>0.011390</td>\n",
       "      <td>...</td>\n",
       "      <td>0.313381</td>\n",
       "      <td>0.312514</td>\n",
       "      <td>0.001163</td>\n",
       "      <td>0.002630</td>\n",
       "      <td>0.002040</td>\n",
       "      <td>-0.000867</td>\n",
       "      <td>0.200092</td>\n",
       "      <td>0.199784</td>\n",
       "      <td>0.199784</td>\n",
       "      <td>0.333333</td>\n",
       "    </tr>\n",
       "  </tbody>\n",
       "</table>\n",
       "<p>5 rows × 39 columns</p>\n",
       "</div>"
      ],
      "text/plain": [
       "  Ticker      Date   AdjOpen   AdjHigh    AdjLow  AdjClose   AdjVol  \\\n",
       "0     AB  19880801  0.303549  0.307058  0.303549  0.303549  47600.0   \n",
       "1     AB  19880802  0.307581  0.311137  0.307581  0.311137  47200.0   \n",
       "2     AB  19880803  0.311137  0.311137  0.307581  0.311137  28000.0   \n",
       "3     AB  19880804  0.311137  0.311137  0.307581  0.311137  96400.0   \n",
       "4     AB  19880805  0.303549  0.303549  0.299747  0.303549  45200.0   \n",
       "\n",
       "   log_returns_adj_close    upmove  downmove      ...          ma.40  \\\n",
       "0               0.000000  0.011113  0.000000      ...       0.314330   \n",
       "1               0.024693  0.007589 -0.000524      ...       0.314174   \n",
       "2               0.000000  0.003556  0.003556      ...       0.314026   \n",
       "3               0.000000  0.003556  0.003556      ...       0.313885   \n",
       "4              -0.024693 -0.004033  0.011390      ...       0.313381   \n",
       "\n",
       "      ma.80  macd.10v5  macd.20v10  macd.40v20  macd.80v40  percent.K.5  \\\n",
       "0  0.312866   0.003026    0.003718    0.001809   -0.001464     0.199784   \n",
       "1  0.312823   0.001664    0.003162    0.001785   -0.001351     0.399569   \n",
       "2  0.312782   0.000820    0.002695    0.001756   -0.001245     0.399569   \n",
       "3  0.312741   0.000310    0.002303    0.001723   -0.001144     0.399800   \n",
       "4  0.312514   0.001163    0.002630    0.002040   -0.000867     0.200092   \n",
       "\n",
       "   percent.K.14  percent.K.30  percent.K.60  \n",
       "0      0.199784      0.199784      0.200308  \n",
       "1      0.399569      0.399569      0.600154  \n",
       "2      0.399569      0.399569      0.600154  \n",
       "3      0.399569      0.399569      0.666667  \n",
       "4      0.199784      0.199784      0.333333  \n",
       "\n",
       "[5 rows x 39 columns]"
      ]
     },
     "execution_count": 135,
     "metadata": {},
     "output_type": "execute_result"
    }
   ],
   "source": [
    "#load data\n",
    "df=pd.read_csv(\"myeod.csv\")\n",
    "df=df.loc[df['Ticker']!='SF',:]\n",
    "df.replace(['inf'], np.nan)\n",
    "df.dropna(axis=0, how='all')\n",
    "df.head()"
   ]
  },
  {
   "cell_type": "code",
   "execution_count": 136,
   "metadata": {
    "collapsed": false
   },
   "outputs": [
    {
     "data": {
      "text/plain": [
       "(701165, 39)"
      ]
     },
     "execution_count": 136,
     "metadata": {},
     "output_type": "execute_result"
    }
   ],
   "source": [
    "df.shape"
   ]
  },
  {
   "cell_type": "code",
   "execution_count": 137,
   "metadata": {
    "collapsed": false
   },
   "outputs": [
    {
     "data": {
      "text/html": [
       "<div>\n",
       "<table border=\"1\" class=\"dataframe\">\n",
       "  <thead>\n",
       "    <tr style=\"text-align: right;\">\n",
       "      <th></th>\n",
       "      <th>AdjOpen</th>\n",
       "      <th>AdjHigh</th>\n",
       "      <th>AdjLow</th>\n",
       "      <th>AdjClose</th>\n",
       "      <th>upmove</th>\n",
       "      <th>downmove</th>\n",
       "      <th>pos.DM</th>\n",
       "      <th>neg.DM</th>\n",
       "      <th>tr</th>\n",
       "      <th>pos.DI</th>\n",
       "      <th>...</th>\n",
       "      <th>ma.40</th>\n",
       "      <th>ma.80</th>\n",
       "      <th>macd.10v5</th>\n",
       "      <th>macd.20v10</th>\n",
       "      <th>macd.40v20</th>\n",
       "      <th>macd.80v40</th>\n",
       "      <th>percent.K.5</th>\n",
       "      <th>percent.K.14</th>\n",
       "      <th>percent.K.30</th>\n",
       "      <th>percent.K.60</th>\n",
       "    </tr>\n",
       "  </thead>\n",
       "  <tbody>\n",
       "    <tr>\n",
       "      <th>0</th>\n",
       "      <td>0.303549</td>\n",
       "      <td>0.307058</td>\n",
       "      <td>0.303549</td>\n",
       "      <td>0.303549</td>\n",
       "      <td>0.011113</td>\n",
       "      <td>0.000000</td>\n",
       "      <td>0.011113</td>\n",
       "      <td>0.000000</td>\n",
       "      <td>0.003509</td>\n",
       "      <td>62.481809</td>\n",
       "      <td>...</td>\n",
       "      <td>0.314330</td>\n",
       "      <td>0.312866</td>\n",
       "      <td>0.003026</td>\n",
       "      <td>0.003718</td>\n",
       "      <td>0.001809</td>\n",
       "      <td>-0.001464</td>\n",
       "      <td>0.199784</td>\n",
       "      <td>0.199784</td>\n",
       "      <td>0.199784</td>\n",
       "      <td>0.200308</td>\n",
       "    </tr>\n",
       "    <tr>\n",
       "      <th>1</th>\n",
       "      <td>0.307581</td>\n",
       "      <td>0.311137</td>\n",
       "      <td>0.307581</td>\n",
       "      <td>0.311137</td>\n",
       "      <td>0.007589</td>\n",
       "      <td>-0.000524</td>\n",
       "      <td>0.007589</td>\n",
       "      <td>0.000000</td>\n",
       "      <td>0.007589</td>\n",
       "      <td>62.481809</td>\n",
       "      <td>...</td>\n",
       "      <td>0.314174</td>\n",
       "      <td>0.312823</td>\n",
       "      <td>0.001664</td>\n",
       "      <td>0.003162</td>\n",
       "      <td>0.001785</td>\n",
       "      <td>-0.001351</td>\n",
       "      <td>0.399569</td>\n",
       "      <td>0.399569</td>\n",
       "      <td>0.399569</td>\n",
       "      <td>0.600154</td>\n",
       "    </tr>\n",
       "    <tr>\n",
       "      <th>2</th>\n",
       "      <td>0.311137</td>\n",
       "      <td>0.311137</td>\n",
       "      <td>0.307581</td>\n",
       "      <td>0.311137</td>\n",
       "      <td>0.003556</td>\n",
       "      <td>0.003556</td>\n",
       "      <td>0.000000</td>\n",
       "      <td>0.000000</td>\n",
       "      <td>0.003556</td>\n",
       "      <td>64.974552</td>\n",
       "      <td>...</td>\n",
       "      <td>0.314026</td>\n",
       "      <td>0.312782</td>\n",
       "      <td>0.000820</td>\n",
       "      <td>0.002695</td>\n",
       "      <td>0.001756</td>\n",
       "      <td>-0.001245</td>\n",
       "      <td>0.399569</td>\n",
       "      <td>0.399569</td>\n",
       "      <td>0.399569</td>\n",
       "      <td>0.600154</td>\n",
       "    </tr>\n",
       "    <tr>\n",
       "      <th>3</th>\n",
       "      <td>0.311137</td>\n",
       "      <td>0.311137</td>\n",
       "      <td>0.307581</td>\n",
       "      <td>0.311137</td>\n",
       "      <td>0.003556</td>\n",
       "      <td>0.003556</td>\n",
       "      <td>0.000000</td>\n",
       "      <td>0.000000</td>\n",
       "      <td>0.003556</td>\n",
       "      <td>57.312509</td>\n",
       "      <td>...</td>\n",
       "      <td>0.313885</td>\n",
       "      <td>0.312741</td>\n",
       "      <td>0.000310</td>\n",
       "      <td>0.002303</td>\n",
       "      <td>0.001723</td>\n",
       "      <td>-0.001144</td>\n",
       "      <td>0.399800</td>\n",
       "      <td>0.399569</td>\n",
       "      <td>0.399569</td>\n",
       "      <td>0.666667</td>\n",
       "    </tr>\n",
       "    <tr>\n",
       "      <th>4</th>\n",
       "      <td>0.303549</td>\n",
       "      <td>0.303549</td>\n",
       "      <td>0.299747</td>\n",
       "      <td>0.303549</td>\n",
       "      <td>-0.004033</td>\n",
       "      <td>0.011390</td>\n",
       "      <td>0.000000</td>\n",
       "      <td>-0.004033</td>\n",
       "      <td>0.011390</td>\n",
       "      <td>55.145816</td>\n",
       "      <td>...</td>\n",
       "      <td>0.313381</td>\n",
       "      <td>0.312514</td>\n",
       "      <td>0.001163</td>\n",
       "      <td>0.002630</td>\n",
       "      <td>0.002040</td>\n",
       "      <td>-0.000867</td>\n",
       "      <td>0.200092</td>\n",
       "      <td>0.199784</td>\n",
       "      <td>0.199784</td>\n",
       "      <td>0.333333</td>\n",
       "    </tr>\n",
       "  </tbody>\n",
       "</table>\n",
       "<p>5 rows × 35 columns</p>\n",
       "</div>"
      ],
      "text/plain": [
       "    AdjOpen   AdjHigh    AdjLow  AdjClose    upmove  downmove    pos.DM  \\\n",
       "0  0.303549  0.307058  0.303549  0.303549  0.011113  0.000000  0.011113   \n",
       "1  0.307581  0.311137  0.307581  0.311137  0.007589 -0.000524  0.007589   \n",
       "2  0.311137  0.311137  0.307581  0.311137  0.003556  0.003556  0.000000   \n",
       "3  0.311137  0.311137  0.307581  0.311137  0.003556  0.003556  0.000000   \n",
       "4  0.303549  0.303549  0.299747  0.303549 -0.004033  0.011390  0.000000   \n",
       "\n",
       "     neg.DM        tr     pos.DI      ...          ma.40     ma.80  macd.10v5  \\\n",
       "0  0.000000  0.003509  62.481809      ...       0.314330  0.312866   0.003026   \n",
       "1  0.000000  0.007589  62.481809      ...       0.314174  0.312823   0.001664   \n",
       "2  0.000000  0.003556  64.974552      ...       0.314026  0.312782   0.000820   \n",
       "3  0.000000  0.003556  57.312509      ...       0.313885  0.312741   0.000310   \n",
       "4 -0.004033  0.011390  55.145816      ...       0.313381  0.312514   0.001163   \n",
       "\n",
       "   macd.20v10  macd.40v20  macd.80v40  percent.K.5  percent.K.14  \\\n",
       "0    0.003718    0.001809   -0.001464     0.199784      0.199784   \n",
       "1    0.003162    0.001785   -0.001351     0.399569      0.399569   \n",
       "2    0.002695    0.001756   -0.001245     0.399569      0.399569   \n",
       "3    0.002303    0.001723   -0.001144     0.399800      0.399569   \n",
       "4    0.002630    0.002040   -0.000867     0.200092      0.199784   \n",
       "\n",
       "   percent.K.30  percent.K.60  \n",
       "0      0.199784      0.200308  \n",
       "1      0.399569      0.600154  \n",
       "2      0.399569      0.600154  \n",
       "3      0.399569      0.666667  \n",
       "4      0.199784      0.333333  \n",
       "\n",
       "[5 rows x 35 columns]"
      ]
     },
     "execution_count": 137,
     "metadata": {},
     "output_type": "execute_result"
    }
   ],
   "source": [
    "df.drop([\"Ticker\",\"Date\",\"log_returns_adj_close\",\"AdjVol\"], axis=1).head()"
   ]
  },
  {
   "cell_type": "code",
   "execution_count": 141,
   "metadata": {
    "collapsed": false
   },
   "outputs": [],
   "source": [
    "X_train, X_test, Y_train, Y_test = sk.train_test_split(\n",
    "    df.drop([\"Ticker\",\"Date\",\"log_returns_adj_close\",\"AdjVol\"], axis=1),\n",
    "    df[\"log_returns_adj_close\"],\n",
    "    test_size=0.20,\n",
    "    train_size =0.50,\n",
    "    random_state = 42)"
   ]
  },
  {
   "cell_type": "code",
   "execution_count": 139,
   "metadata": {
    "collapsed": false
   },
   "outputs": [],
   "source": [
    "X_train, X_test, Y_train, Y_test=X_train.astype(np.float32), X_test.astype(np.float32), pd.DataFrame(Y_train.astype(np.float32)), pd.DataFrame(Y_test.astype(np.float32))"
   ]
  },
  {
   "cell_type": "code",
   "execution_count": 130,
   "metadata": {
    "collapsed": false
   },
   "outputs": [
    {
     "data": {
      "text/plain": [
       "0.21948436"
      ]
     },
     "execution_count": 130,
     "metadata": {},
     "output_type": "execute_result"
    }
   ],
   "source": [
    "X_train.iloc[135989 ,11]"
   ]
  },
  {
   "cell_type": "code",
   "execution_count": 140,
   "metadata": {
    "collapsed": false
   },
   "outputs": [
    {
     "data": {
      "text/plain": [
       "AdjOpen         1.579343e+07\n",
       "AdjHigh         1.599953e+07\n",
       "AdjLow          1.558153e+07\n",
       "AdjClose        1.579956e+07\n",
       "upmove          4.251834e+05\n",
       "downmove        4.112222e+05\n",
       "pos.DM          3.057343e+05\n",
       "neg.DM          1.173629e+05\n",
       "tr              4.381430e+05\n",
       "pos.DI          2.455130e+07\n",
       "neg.DI          8.236773e+06\n",
       "adx.5                    inf\n",
       "adx.14                   inf\n",
       "adx.30                   inf\n",
       "adx.60                   inf\n",
       "gain            1.168062e+05\n",
       "loss            1.076507e+05\n",
       "Avg.Gain        1.149710e+05\n",
       "Avg.Loss        1.082129e+05\n",
       "rs                       inf\n",
       "ma.rs                    inf\n",
       "rsi             1.919630e+05\n",
       "ma.5            1.578571e+07\n",
       "ma.10           1.576949e+07\n",
       "ma.20           1.573771e+07\n",
       "ma.40           1.567696e+07\n",
       "ma.80           1.555688e+07\n",
       "macd.10v5      -1.650426e+04\n",
       "macd.20v10     -3.158127e+04\n",
       "macd.40v20     -6.061208e+04\n",
       "macd.80v40     -1.200023e+05\n",
       "percent.K.5     2.414309e+04\n",
       "percent.K.14    2.419461e+04\n",
       "percent.K.30    2.428726e+04\n",
       "percent.K.60    2.446232e+04\n",
       "dtype: float32"
      ]
     },
     "execution_count": 140,
     "metadata": {},
     "output_type": "execute_result"
    }
   ],
   "source": [
    "X_train.sum()"
   ]
  },
  {
   "cell_type": "code",
   "execution_count": 90,
   "metadata": {
    "collapsed": true
   },
   "outputs": [],
   "source": [
    "learning_rate = 0.001\n",
    "training_epochs = 150"
   ]
  },
  {
   "cell_type": "code",
   "execution_count": 91,
   "metadata": {
    "collapsed": true
   },
   "outputs": [],
   "source": [
    "number_of_inputs = 35\n",
    "number_of_output = 1"
   ]
  },
  {
   "cell_type": "code",
   "execution_count": 92,
   "metadata": {
    "collapsed": true
   },
   "outputs": [],
   "source": [
    "tf.reset_default_graph()"
   ]
  },
  {
   "cell_type": "code",
   "execution_count": 93,
   "metadata": {
    "collapsed": true
   },
   "outputs": [],
   "source": [
    "layer_1_nodes = 20\n",
    "layer_2_nodes = 150\n",
    "layer_3_nodes = 10"
   ]
  },
  {
   "cell_type": "code",
   "execution_count": 94,
   "metadata": {
    "collapsed": true
   },
   "outputs": [],
   "source": [
    "# Input Layer\n",
    "with tf.variable_scope('input'):\n",
    "    X = tf.placeholder(tf.float32, shape=(None, number_of_inputs))"
   ]
  },
  {
   "cell_type": "code",
   "execution_count": 95,
   "metadata": {
    "collapsed": false
   },
   "outputs": [],
   "source": [
    "with tf.variable_scope('layer_1'):\n",
    "    weights = tf.get_variable(name = \"weights1\", shape = [number_of_inputs, layer_1_nodes], initializer=tf.contrib.layers.xavier_initializer())\n",
    "    biases = tf.get_variable(name = \"biases1\", shape = [layer_1_nodes], initializer = tf.zeros_initializer())\n",
    "    layer_1_output = tf.nn.sigmoid( tf.matmul(X, weights) + biases)"
   ]
  },
  {
   "cell_type": "code",
   "execution_count": 96,
   "metadata": {
    "collapsed": false
   },
   "outputs": [],
   "source": [
    "with tf.variable_scope('layer_2'):\n",
    "    weights = tf.get_variable(name = \"weights2\", shape = [layer_1_nodes, layer_2_nodes], initializer=tf.contrib.layers.xavier_initializer())\n",
    "    biases = tf.get_variable(name = \"biases2\", shape = [layer_2_nodes], initializer = tf.zeros_initializer())\n",
    "    layer_2_output = tf.nn.sigmoid( tf.matmul(layer_1_output, weights) + biases)"
   ]
  },
  {
   "cell_type": "code",
   "execution_count": 97,
   "metadata": {
    "collapsed": true
   },
   "outputs": [],
   "source": [
    "with tf.variable_scope('layer_3'):\n",
    "    weights = tf.get_variable(name = \"weights3\", shape = [layer_2_nodes, layer_3_nodes], initializer=tf.contrib.layers.xavier_initializer())\n",
    "    biases = tf.get_variable(name = \"biases3\", shape = [layer_3_nodes], initializer = tf.zeros_initializer())\n",
    "    layer_3_output = tf.nn.sigmoid( tf.matmul(layer_2_output, weights) + biases)"
   ]
  },
  {
   "cell_type": "code",
   "execution_count": 98,
   "metadata": {
    "collapsed": false
   },
   "outputs": [],
   "source": [
    "with tf.variable_scope('output'):\n",
    "    weights = tf.get_variable(name = \"weights4\", shape = [layer_3_nodes, number_of_output], initializer=tf.contrib.layers.xavier_initializer())\n",
    "    biases = tf.get_variable(name = \"biases4\", shape = [number_of_output], initializer = tf.zeros_initializer())\n",
    "    output_layer = tf.matmul(layer_3_output, weights) + biases"
   ]
  },
  {
   "cell_type": "code",
   "execution_count": 99,
   "metadata": {
    "collapsed": false
   },
   "outputs": [],
   "source": [
    "with tf.variable_scope('cost'):\n",
    "    Y = tf.placeholder(tf.float32, shape=(None, 1))\n",
    "    cost = tf.reduce_mean(tf.squared_difference(output_layer,Y))"
   ]
  },
  {
   "cell_type": "code",
   "execution_count": 100,
   "metadata": {
    "collapsed": false
   },
   "outputs": [],
   "source": [
    "with tf.variable_scope('train'):\n",
    "    optimizer = tf.train.AdamOptimizer(learning_rate).minimize(cost)"
   ]
  },
  {
   "cell_type": "code",
   "execution_count": 101,
   "metadata": {
    "collapsed": true
   },
   "outputs": [],
   "source": [
    "with tf.variable_scope(\"logging\"):\n",
    "    tf.summary.scalar(\"current_cost\",cost)\n",
    "    summary=tf.summary.merge_all()"
   ]
  },
  {
   "cell_type": "code",
   "execution_count": 102,
   "metadata": {
    "collapsed": false
   },
   "outputs": [
    {
     "name": "stdout",
     "output_type": "stream",
     "text": [
      "Epoch: 0 - Training Cost: nan  Testing Cost: nan\n",
      "Epoch: 5 - Training Cost: nan  Testing Cost: nan\n"
     ]
    },
    {
     "ename": "KeyboardInterrupt",
     "evalue": "",
     "output_type": "error",
     "traceback": [
      "\u001b[0;31m---------------------------------------------------------------------------\u001b[0m",
      "\u001b[0;31mKeyboardInterrupt\u001b[0m                         Traceback (most recent call last)",
      "\u001b[0;32m<ipython-input-102-027345c782dc>\u001b[0m in \u001b[0;36m<module>\u001b[0;34m()\u001b[0m\n\u001b[1;32m     14\u001b[0m \u001b[1;33m\u001b[0m\u001b[0m\n\u001b[1;32m     15\u001b[0m         \u001b[1;31m# Feed in the training data and do one step of neural network training\u001b[0m\u001b[1;33m\u001b[0m\u001b[1;33m\u001b[0m\u001b[0m\n\u001b[0;32m---> 16\u001b[0;31m         \u001b[0msession\u001b[0m\u001b[1;33m.\u001b[0m\u001b[0mrun\u001b[0m\u001b[1;33m(\u001b[0m\u001b[0moptimizer\u001b[0m\u001b[1;33m,\u001b[0m \u001b[0mfeed_dict\u001b[0m\u001b[1;33m=\u001b[0m\u001b[1;33m{\u001b[0m\u001b[0mX\u001b[0m\u001b[1;33m:\u001b[0m \u001b[0mX_train\u001b[0m\u001b[1;33m,\u001b[0m \u001b[0mY\u001b[0m\u001b[1;33m:\u001b[0m \u001b[0mY_train\u001b[0m\u001b[1;33m}\u001b[0m\u001b[1;33m)\u001b[0m\u001b[1;33m\u001b[0m\u001b[0m\n\u001b[0m\u001b[1;32m     17\u001b[0m \u001b[1;33m\u001b[0m\u001b[0m\n\u001b[1;32m     18\u001b[0m         \u001b[1;31m# Every 5 training steps, log our progress\u001b[0m\u001b[1;33m\u001b[0m\u001b[1;33m\u001b[0m\u001b[0m\n",
      "\u001b[0;32mC:\\Users\\sabin\\Anaconda3\\lib\\site-packages\\tensorflow\\python\\client\\session.py\u001b[0m in \u001b[0;36mrun\u001b[0;34m(self, fetches, feed_dict, options, run_metadata)\u001b[0m\n\u001b[1;32m    765\u001b[0m     \u001b[1;32mtry\u001b[0m\u001b[1;33m:\u001b[0m\u001b[1;33m\u001b[0m\u001b[0m\n\u001b[1;32m    766\u001b[0m       result = self._run(None, fetches, feed_dict, options_ptr,\n\u001b[0;32m--> 767\u001b[0;31m                          run_metadata_ptr)\n\u001b[0m\u001b[1;32m    768\u001b[0m       \u001b[1;32mif\u001b[0m \u001b[0mrun_metadata\u001b[0m\u001b[1;33m:\u001b[0m\u001b[1;33m\u001b[0m\u001b[0m\n\u001b[1;32m    769\u001b[0m         \u001b[0mproto_data\u001b[0m \u001b[1;33m=\u001b[0m \u001b[0mtf_session\u001b[0m\u001b[1;33m.\u001b[0m\u001b[0mTF_GetBuffer\u001b[0m\u001b[1;33m(\u001b[0m\u001b[0mrun_metadata_ptr\u001b[0m\u001b[1;33m)\u001b[0m\u001b[1;33m\u001b[0m\u001b[0m\n",
      "\u001b[0;32mC:\\Users\\sabin\\Anaconda3\\lib\\site-packages\\tensorflow\\python\\client\\session.py\u001b[0m in \u001b[0;36m_run\u001b[0;34m(self, handle, fetches, feed_dict, options, run_metadata)\u001b[0m\n\u001b[1;32m    963\u001b[0m     \u001b[1;32mif\u001b[0m \u001b[0mfinal_fetches\u001b[0m \u001b[1;32mor\u001b[0m \u001b[0mfinal_targets\u001b[0m\u001b[1;33m:\u001b[0m\u001b[1;33m\u001b[0m\u001b[0m\n\u001b[1;32m    964\u001b[0m       results = self._do_run(handle, final_targets, final_fetches,\n\u001b[0;32m--> 965\u001b[0;31m                              feed_dict_string, options, run_metadata)\n\u001b[0m\u001b[1;32m    966\u001b[0m     \u001b[1;32melse\u001b[0m\u001b[1;33m:\u001b[0m\u001b[1;33m\u001b[0m\u001b[0m\n\u001b[1;32m    967\u001b[0m       \u001b[0mresults\u001b[0m \u001b[1;33m=\u001b[0m \u001b[1;33m[\u001b[0m\u001b[1;33m]\u001b[0m\u001b[1;33m\u001b[0m\u001b[0m\n",
      "\u001b[0;32mC:\\Users\\sabin\\Anaconda3\\lib\\site-packages\\tensorflow\\python\\client\\session.py\u001b[0m in \u001b[0;36m_do_run\u001b[0;34m(self, handle, target_list, fetch_list, feed_dict, options, run_metadata)\u001b[0m\n\u001b[1;32m   1013\u001b[0m     \u001b[1;32mif\u001b[0m \u001b[0mhandle\u001b[0m \u001b[1;32mis\u001b[0m \u001b[1;32mNone\u001b[0m\u001b[1;33m:\u001b[0m\u001b[1;33m\u001b[0m\u001b[0m\n\u001b[1;32m   1014\u001b[0m       return self._do_call(_run_fn, self._session, feed_dict, fetch_list,\n\u001b[0;32m-> 1015\u001b[0;31m                            target_list, options, run_metadata)\n\u001b[0m\u001b[1;32m   1016\u001b[0m     \u001b[1;32melse\u001b[0m\u001b[1;33m:\u001b[0m\u001b[1;33m\u001b[0m\u001b[0m\n\u001b[1;32m   1017\u001b[0m       return self._do_call(_prun_fn, self._session, handle, feed_dict,\n",
      "\u001b[0;32mC:\\Users\\sabin\\Anaconda3\\lib\\site-packages\\tensorflow\\python\\client\\session.py\u001b[0m in \u001b[0;36m_do_call\u001b[0;34m(self, fn, *args)\u001b[0m\n\u001b[1;32m   1020\u001b[0m   \u001b[1;32mdef\u001b[0m \u001b[0m_do_call\u001b[0m\u001b[1;33m(\u001b[0m\u001b[0mself\u001b[0m\u001b[1;33m,\u001b[0m \u001b[0mfn\u001b[0m\u001b[1;33m,\u001b[0m \u001b[1;33m*\u001b[0m\u001b[0margs\u001b[0m\u001b[1;33m)\u001b[0m\u001b[1;33m:\u001b[0m\u001b[1;33m\u001b[0m\u001b[0m\n\u001b[1;32m   1021\u001b[0m     \u001b[1;32mtry\u001b[0m\u001b[1;33m:\u001b[0m\u001b[1;33m\u001b[0m\u001b[0m\n\u001b[0;32m-> 1022\u001b[0;31m       \u001b[1;32mreturn\u001b[0m \u001b[0mfn\u001b[0m\u001b[1;33m(\u001b[0m\u001b[1;33m*\u001b[0m\u001b[0margs\u001b[0m\u001b[1;33m)\u001b[0m\u001b[1;33m\u001b[0m\u001b[0m\n\u001b[0m\u001b[1;32m   1023\u001b[0m     \u001b[1;32mexcept\u001b[0m \u001b[0merrors\u001b[0m\u001b[1;33m.\u001b[0m\u001b[0mOpError\u001b[0m \u001b[1;32mas\u001b[0m \u001b[0me\u001b[0m\u001b[1;33m:\u001b[0m\u001b[1;33m\u001b[0m\u001b[0m\n\u001b[1;32m   1024\u001b[0m       \u001b[0mmessage\u001b[0m \u001b[1;33m=\u001b[0m \u001b[0mcompat\u001b[0m\u001b[1;33m.\u001b[0m\u001b[0mas_text\u001b[0m\u001b[1;33m(\u001b[0m\u001b[0me\u001b[0m\u001b[1;33m.\u001b[0m\u001b[0mmessage\u001b[0m\u001b[1;33m)\u001b[0m\u001b[1;33m\u001b[0m\u001b[0m\n",
      "\u001b[0;32mC:\\Users\\sabin\\Anaconda3\\lib\\site-packages\\tensorflow\\python\\client\\session.py\u001b[0m in \u001b[0;36m_run_fn\u001b[0;34m(session, feed_dict, fetch_list, target_list, options, run_metadata)\u001b[0m\n\u001b[1;32m   1002\u001b[0m         return tf_session.TF_Run(session, options,\n\u001b[1;32m   1003\u001b[0m                                  \u001b[0mfeed_dict\u001b[0m\u001b[1;33m,\u001b[0m \u001b[0mfetch_list\u001b[0m\u001b[1;33m,\u001b[0m \u001b[0mtarget_list\u001b[0m\u001b[1;33m,\u001b[0m\u001b[1;33m\u001b[0m\u001b[0m\n\u001b[0;32m-> 1004\u001b[0;31m                                  status, run_metadata)\n\u001b[0m\u001b[1;32m   1005\u001b[0m \u001b[1;33m\u001b[0m\u001b[0m\n\u001b[1;32m   1006\u001b[0m     \u001b[1;32mdef\u001b[0m \u001b[0m_prun_fn\u001b[0m\u001b[1;33m(\u001b[0m\u001b[0msession\u001b[0m\u001b[1;33m,\u001b[0m \u001b[0mhandle\u001b[0m\u001b[1;33m,\u001b[0m \u001b[0mfeed_dict\u001b[0m\u001b[1;33m,\u001b[0m \u001b[0mfetch_list\u001b[0m\u001b[1;33m)\u001b[0m\u001b[1;33m:\u001b[0m\u001b[1;33m\u001b[0m\u001b[0m\n",
      "\u001b[0;31mKeyboardInterrupt\u001b[0m: "
     ]
    }
   ],
   "source": [
    "with tf.Session() as session:\n",
    "\n",
    "    # Run the global variable initializer to initialize all variables and layers of the neural network\n",
    "    session.run(tf.global_variables_initializer())\n",
    "\n",
    "    # Create log file writers to record training progress.\n",
    "    # We'll store training and testing log data separately.\n",
    "    training_writer = tf.summary.FileWriter('./logs/200/training-'+str(layer_1_nodes)+'-'+str(layer_2_nodes)+'-'+str(layer_3_nodes), session.graph)\n",
    "    testing_writer = tf.summary.FileWriter('./logs/200/testing-'+str(layer_1_nodes)+'-'+str(layer_2_nodes)+'-'+str(layer_3_nodes), session.graph)\n",
    "\n",
    "    # Run the optimizer over and over to train the network.\n",
    "    # One epoch is one full run through the training data set.\n",
    "    for epoch in range(training_epochs):\n",
    "\n",
    "        # Feed in the training data and do one step of neural network training\n",
    "        session.run(optimizer, feed_dict={X: X_train, Y: Y_train})\n",
    "\n",
    "        # Every 5 training steps, log our progress\n",
    "        if epoch % 5 == 0:\n",
    "            # Get the current accuracy scores by running the \"cost\" operation on the training and test data sets\n",
    "            training_cost, training_summary = session.run([cost, summary], feed_dict={X: X_train, Y:Y_train})\n",
    "            testing_cost, testing_summary = session.run([cost, summary], feed_dict={X: X_test, Y: Y_test})\n",
    "\n",
    "            # Write the current training status to the log files (Which we can view with TensorBoard)\n",
    "            training_writer.add_summary(training_summary, epoch)\n",
    "            testing_writer.add_summary(testing_summary, epoch)\n",
    "\n",
    "            # Print the current training status to the screen\n",
    "            print(\"Epoch: {} - Training Cost: {}  Testing Cost: {}\".format(epoch, training_cost, testing_cost))\n",
    "\n",
    "    # Training is now complete!\n",
    "\n",
    "    # Get the final accuracy scores by running the \"cost\" operation on the training and test data sets\n",
    "    final_training_cost = session.run(cost, feed_dict={X: X_train, Y: Y_train})\n",
    "    final_testing_cost = session.run(cost, feed_dict={X: X_test, Y: Y_test})\n",
    "\n",
    "    print(\"Final Training cost: {}\".format(final_training_cost))\n",
    "    print(\"Final Testing cost: {}\".format(final_testing_cost))\n",
    "    "
   ]
  },
  {
   "cell_type": "code",
   "execution_count": null,
   "metadata": {
    "collapsed": true
   },
   "outputs": [],
   "source": []
  }
 ],
 "metadata": {
  "anaconda-cloud": {},
  "kernelspec": {
   "display_name": "Python [default]",
   "language": "python",
   "name": "python3"
  },
  "language_info": {
   "codemirror_mode": {
    "name": "ipython",
    "version": 3
   },
   "file_extension": ".py",
   "mimetype": "text/x-python",
   "name": "python",
   "nbconvert_exporter": "python",
   "pygments_lexer": "ipython3",
   "version": "3.5.2"
  }
 },
 "nbformat": 4,
 "nbformat_minor": 2
}
